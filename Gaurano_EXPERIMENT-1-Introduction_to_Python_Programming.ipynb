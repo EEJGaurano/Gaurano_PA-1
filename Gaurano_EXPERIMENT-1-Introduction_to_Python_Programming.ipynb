{
 "cells": [
  {
   "cell_type": "markdown",
   "id": "1509af24-29c6-46d1-b78b-6f3d9b931c6e",
   "metadata": {},
   "source": [
    "# ALPHABET SOUP PROBLEM \n",
    "Create a function that takes a string and returns a string with its letters\n",
    "in alphabetical order."
   ]
  },
  {
   "cell_type": "code",
   "execution_count": 1,
   "id": "60aad6d0-8406-4e27-b0a2-1fa709b08bb7",
   "metadata": {},
   "outputs": [
    {
     "data": {
      "text/plain": [
       "'ehllo'"
      ]
     },
     "execution_count": 1,
     "metadata": {},
     "output_type": "execute_result"
    }
   ],
   "source": [
    "s = \"hello\" #assign the string\n",
    "\n",
    "sorted_s = ''.join(sorted(s)) #function to sort the string in alphabetical order\n",
    "\n",
    "sorted_s #output\n",
    "\n"
   ]
  },
  {
   "cell_type": "code",
   "execution_count": 2,
   "id": "cb868320-68b3-4527-894a-73effd272226",
   "metadata": {},
   "outputs": [
    {
     "data": {
      "text/plain": [
       "'acehkr'"
      ]
     },
     "execution_count": 2,
     "metadata": {},
     "output_type": "execute_result"
    }
   ],
   "source": [
    "s = \"hacker\"\n",
    "\n",
    "sorted_s = ''.join(sorted(s))\n",
    "sorted_s"
   ]
  },
  {
   "cell_type": "markdown",
   "id": "38e34f50-63e8-4d57-a33b-fac06438ee85",
   "metadata": {},
   "source": [
    "# EMOTICON PROBLEM\n",
    "Create a function that changes specific words into emoticons. Given a sentence\n",
    "as a string, replace the words smile, grin, sad and mad with their corresponding emoticon"
   ]
  },
  {
   "cell_type": "code",
   "execution_count": 4,
   "id": "0509ff87-4279-4994-b452-ac8d540a911e",
   "metadata": {},
   "outputs": [
    {
     "name": "stdout",
     "output_type": "stream",
     "text": [
      "Make me :)\n",
      "I am >:(\n"
     ]
    }
   ],
   "source": [
    "def emotify(s): #function to assign emoticons\n",
    "    s = s.replace (\"Smile\", \":)\")\n",
    "    s = s.replace (\"Grin\", \":D)\")\n",
    "    s = s.replace (\"Sad\", \":((\")\n",
    "    s = s.replace (\"Mad\", \">:(\")\n",
    "    return s\n",
    "    \n",
    "#Print the output of the function\n",
    "print(emotify(\"Make me Smile\"))\n",
    "print(emotify(\"I am Mad\"))"
   ]
  },
  {
   "cell_type": "markdown",
   "id": "6d8c2156-91b5-42b5-bca7-b9510c078094",
   "metadata": {},
   "source": [
    "# UNPACKING LIST PROBLEM\n",
    "Unpack the list writeyourcodehere into three variables, being first,\n",
    "middle, and last, with middle being everything in between the first and last element. Then print all three\n",
    "variables."
   ]
  },
  {
   "cell_type": "code",
   "execution_count": 5,
   "id": "4c8eee5d-3e5e-4794-b93b-fd5670446ced",
   "metadata": {},
   "outputs": [
    {
     "name": "stdout",
     "output_type": "stream",
     "text": [
      "first: 1,   middle: [2, 3, 4, 5],   last: 6\n"
     ]
    }
   ],
   "source": [
    "def unpack_list(lst):\n",
    "    first = lst[0] #first element\n",
    "    middle = lst[1:-1]  #Middle element\n",
    "    last = lst[-1]   #Last element\n",
    "    \n",
    "    print (\"first: {},   middle: {},   last: {}\". format(first, middle, last)) #Output\n",
    "\n",
    "unpack_list (lst = [1, 2, 3, 4, 5, 6])"
   ]
  }
 ],
 "metadata": {
  "kernelspec": {
   "display_name": "Python [conda env:base] *",
   "language": "python",
   "name": "conda-base-py"
  },
  "language_info": {
   "codemirror_mode": {
    "name": "ipython",
    "version": 3
   },
   "file_extension": ".py",
   "mimetype": "text/x-python",
   "name": "python",
   "nbconvert_exporter": "python",
   "pygments_lexer": "ipython3",
   "version": "3.13.5"
  }
 },
 "nbformat": 4,
 "nbformat_minor": 5
}
